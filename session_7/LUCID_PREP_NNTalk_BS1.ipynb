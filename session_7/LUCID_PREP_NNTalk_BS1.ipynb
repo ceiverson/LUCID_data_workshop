{
  "nbformat": 4,
  "nbformat_minor": 0,
  "metadata": {
    "colab": {
      "name": "LUCID_PREP_NNTalk_BS1.ipynb",
      "version": "0.3.2",
      "provenance": [],
      "collapsed_sections": [],
      "toc_visible": true
    },
    "kernelspec": {
      "name": "python3",
      "display_name": "Python 3"
    },
    "accelerator": "GPU"
  },
  "cells": [
    {
      "cell_type": "markdown",
      "metadata": {
        "id": "fMF57QM2jiYv",
        "colab_type": "text"
      },
      "source": [
        "# Session 7: Neural Networks #\n",
        "\n",
        "Machine learning and artificial intelligence technology is growing at an impressive rate. From robotics and self-driving cars to augmented reality devices and facial recognition software, models that make predictions from data are all around us. Many of these applications implement neural networks, which basically allows the computer to analyze data similar to the way the human brain analyzes data.\n",
        "\n",
        "With recent advancements in computing power and the explosion of big data, we can now implement large models that perform end-to-end learning (deep learning). This means that we can create a model, feed it tons and tons of data, and the model will learn features from the data that are important for accomplishing the task.\n",
        "\n",
        "Session outline:\n",
        "* Introduce the simplest neural network, the perceptron\n",
        "* Discuss the general architecture for neural networks\n",
        "* Implement a neural network to solve a hand writing recognition task\n",
        "* Introduce deep learning (convolutional neural networks)\n",
        "* Implement a deep neural network to solve a hand writing recognition task\n",
        "\n",
        "#### Preparation for the workshop: ####\n",
        "\n",
        "1. Watch the following videos:\n",
        "* https://www.youtube.com/watch?v=aircAruvnKk\n",
        "* https://www.youtube.com/watch?v=uXt8qF2Zzfo&t=1973s (Watch first 12 min)\n",
        "* https://www.youtube.com/watch?v=YRhxdVk_sIs\n",
        "\n",
        "2. Pull session 7 materials from GitHub\n",
        "* https://github.com/pabloinsente/LUCID_data_workshop"
      ]
    },
    {
      "cell_type": "markdown",
      "metadata": {
        "id": "V-Tf2c2hkKST",
        "colab_type": "text"
      },
      "source": [
        "## Breakout Session #1 ##\n",
        "\n",
        "The following code has been modified from:\n",
        "\n",
        "https://www.tensorflow.org/tutorials/keras/basic_classification\n",
        "\n",
        "**_Please visit the website to see the original code and explaination._\n",
        "\n",
        "#### Instructions: ####\n",
        "\n",
        "Read through the explaination for each section of cade and then run each block of code in consecutive order. If you have any questions about the code or the underlying theory please raise your hand and ask (_if you have questions after the session, please send me an email at doudlah@wisc.edu_).\n",
        "\n",
        "\\\n",
        "\n",
        "For this session, we will use **TensorFlow**, an open source deep learning library and **Keras**, a neural network API. To learn more, visit the TensorFlow website (https://www.tensorflow.org/). There are many great tutorials to check out!"
      ]
    },
    {
      "cell_type": "markdown",
      "metadata": {
        "id": "8JSEr1tcrAs5",
        "colab_type": "text"
      },
      "source": [
        "## Step 1: Preparing the data ##\n",
        "\n",
        "_**Note:** The MNIST dataset is freely available (http://yann.lecun.com/exdb/mnist/). Feel free to visit the website to learn more about the dataset and how it was created._\n",
        "\n",
        "Keras has a built in module for downloading the MNIST dataset. This makes it easy to load the data and split it into training and testing sets. It is always a good idea to get to know your data before you dive into building the model. You should always examine the data that you are working with to get a better feel for how you should try to analyze the data.\n",
        "\n",
        "Here, we plot the first 25 training images. What are some things that you notice about the images? Do you think you could code your own rules for classifying these hand written digits?"
      ]
    },
    {
      "cell_type": "code",
      "metadata": {
        "id": "X9f5or4sjenM",
        "colab_type": "code",
        "colab": {}
      },
      "source": [
        "# Import required libraries\n",
        "import tensorflow as tf\n",
        "from tensorflow import keras\n",
        "import numpy as np\n",
        "import matplotlib.pyplot as plt\n",
        "\n",
        "# Check tenserflow version\n",
        "print(tf.__version__)\n",
        "\n",
        "# Load MNIST data\n",
        "mnistData = keras.datasets.mnist\n",
        "(trainImages, trainLabels), (testImages, testLabels) = mnistData.load_data()\n",
        "\n",
        "# Check sizes of data\n",
        "print('Shape of trainImages: ',trainImages.shape)\n",
        "print('Length of trainLabels: ',len(trainLabels))\n",
        "print('Shape of testImages: ',testImages.shape)\n",
        "print('Length of testLabels: ',len(testLabels))\n",
        "\n",
        "# Check the image labels\n",
        "print(trainLabels)\n",
        "print(testLabels)\n",
        "\n",
        "# Set labels for each class (digits 0:9)\n",
        "class_names = ['Digit_0','Digit_1','Digit_2','Digit_3','Digit_4','Digit_5',\n",
        "              'Digit_6','Digit_7','Digit_8','Digit_9',]\n",
        "\n",
        "# Display example hand written digits\n",
        "plt.figure(figsize=(10,10))\n",
        "for i in range(25):\n",
        "  plt.subplot(5,5,i+1)\n",
        "  plt.xticks([])\n",
        "  plt.yticks([])\n",
        "  plt.grid(False)\n",
        "  plt.imshow(trainImages[i], cmap=plt.cm.binary)\n",
        "  plt.title(class_names[trainLabels[i]])\n"
      ],
      "execution_count": 0,
      "outputs": []
    },
    {
      "cell_type": "markdown",
      "metadata": {
        "id": "xu2SuJu5yNkz",
        "colab_type": "text"
      },
      "source": [
        "## Step 2: Building the Neural Network Model ##\n",
        "\n",
        "The first layer will be a flattened version of our images, so it will have 784 nodes (28x28). We can then choose how many hidden layers we want, and how many nodes each layer will have. Feel free to modify the code to add more layers or change the number of nodes in each layer to see how the accuracy of the model changes. The final layer must have 10 nodes because we have 10 different classes that we are trying to discriminate between.\n",
        "\n",
        "\\\n",
        "\n",
        "**Note:**\n",
        "\n",
        "'_relu_' is a type of activation function, which stands for \"rectified linear unit\" and is defined as:\n",
        "\n",
        "$\n",
        "f(x)= \n",
        "\\begin{cases}\n",
        "    x,& \\text{for } x > 0\\\\\n",
        "    0,              & \\text{otherwise}\n",
        "\\end{cases}\n",
        "$\n",
        "\n",
        "\\\n",
        "\n",
        "Recall from the lecture slides all of the connections between all of the different nodes in the different layers. Could you imagine if you had to code each connection? TensorFlow and Keras allow you to build complicated models in a relatively few lines of code. \n",
        "\n",
        "Here we first define our model architecture and then compile the model and choose a loss function and optimizer. \n"
      ]
    },
    {
      "cell_type": "code",
      "metadata": {
        "id": "8U3u-_HVyaCy",
        "colab_type": "code",
        "colab": {}
      },
      "source": [
        "model = keras.Sequential([\n",
        "    keras.layers.Flatten(input_shape=(28,28)),\n",
        "    keras.layers.Dense(128,activation=tf.nn.relu),\n",
        "    keras.layers.Dense(10,activation=tf.nn.softmax)\n",
        "])\n",
        "\n",
        "model.compile(optimizer='adam',\n",
        "             loss='sparse_categorical_crossentropy',\n",
        "             metrics=['accuracy'])\n"
      ],
      "execution_count": 0,
      "outputs": []
    },
    {
      "cell_type": "markdown",
      "metadata": {
        "id": "nzXyue2W6x1k",
        "colab_type": "text"
      },
      "source": [
        "## Step 3: Train the network ##\n",
        "\n",
        "Here, we will train the neural network and print the accuracy at the end of training. Feel free to play with the number of epochs, or times the model will train on all of the images but be careful of overfitting. \n",
        "\n",
        "There is a lot that goes into training a model. You need to send some images through your model, calculate a loss from the true labels, and then update all of the weights in the network. With TensorFlow and Keras, all of that is condensed into one line of code!\n",
        "\n",
        "_**Note:** This make take a few minutes to run because it is processing 60,000 images. The number of epochs is directly related to the time that it will take the model to run._"
      ]
    },
    {
      "cell_type": "code",
      "metadata": {
        "id": "VW2OoVmJ62qY",
        "colab_type": "code",
        "colab": {}
      },
      "source": [
        "model.fit(trainImages,trainLabels,epochs=5)"
      ],
      "execution_count": 0,
      "outputs": []
    },
    {
      "cell_type": "markdown",
      "metadata": {
        "id": "AeWV__RD8J-a",
        "colab_type": "text"
      },
      "source": [
        "## Step 4: Test the network ##\n",
        "\n",
        "As with any kind of machine learning, it is always important to test the network on data that it did not see in training. Here, we use our \"testing\" dataset to check the actual accuracy of the model. "
      ]
    },
    {
      "cell_type": "code",
      "metadata": {
        "id": "mwQrwmAsJl_8",
        "colab_type": "code",
        "colab": {}
      },
      "source": [
        "testLoss, testAccuracy = model.evaluate(testImages,testLabels)\n",
        "print('Test accuracy:', testAccuracy)"
      ],
      "execution_count": 0,
      "outputs": []
    },
    {
      "cell_type": "markdown",
      "metadata": {
        "id": "H3qMDVx600hS",
        "colab_type": "text"
      },
      "source": [
        "## Step 5: Check your results ##\n",
        "\n",
        "By just using a simple neural network with relatively few parameters we already get a pretty high accuracy. It is always advisable to check your output of your model to verify that it is working as expected. \n",
        "\n",
        "Here, we look at one prediction vector to see what the data looks like. Then we plot some of the test images and look at the model's guesses. "
      ]
    },
    {
      "cell_type": "code",
      "metadata": {
        "id": "eVGm4U821Cvn",
        "colab_type": "code",
        "colab": {}
      },
      "source": [
        "# Print what a prediction looks like from your model\n",
        "predictions = model.predict(testImages)\n",
        "print(predictions[0])\n",
        "\n",
        "# Print which label the model predicted\n",
        "print(class_names[np.argmax(predictions[0])])\n",
        "\n",
        "# Plot image with model predictions\n",
        "# Plot first numRows or randomly select\n",
        "isRand = False\n",
        "numRows = 5\n",
        "plt.figure(figsize=(8,numRows*2))\n",
        "for i in range(numRows):\n",
        "  # if isRand == True, randomly select\n",
        "  if isRand:\n",
        "    j = np.random.randint(len(testLabels),size=(1,1))\n",
        "    j = np.asscalar(j)\n",
        "  else:\n",
        "    j = i\n",
        "    \n",
        "  # Plot image with true label\n",
        "  plt.subplot(numRows,2,(2*i)+1)\n",
        "  plt.xticks([])\n",
        "  plt.yticks([])\n",
        "  plt.grid(False)\n",
        "  plt.imshow(testImages[j].squeeze(), cmap=plt.cm.binary)\n",
        "  plt.title(class_names[testLabels[j]])\n",
        "  \n",
        "  # Plot histogram with guess percentage\n",
        "  plt.subplot(numRows,2,(2*i)+2)\n",
        "  plt.xticks([])\n",
        "  plt.yticks([])\n",
        "  plt.grid(False)\n",
        "  thisplot = plt.bar(range(10), predictions[j], color=\"#777777\")\n",
        "  plt.ylim([0, 1])\n",
        "  predicted_label = np.argmax(predictions[j])\n",
        "  \n",
        "  # Set color based on correct/incorrect\n",
        "  if predicted_label == testLabels[j]:\n",
        "    color = 'green'\n",
        "  else:\n",
        "    color = 'red'\n",
        "  plt.title(\"{} {:2.0f}%\".format(class_names[predicted_label],\n",
        "                                      100*np.max(predictions[j])),\n",
        "           color=color)"
      ],
      "execution_count": 0,
      "outputs": []
    }
  ]
}